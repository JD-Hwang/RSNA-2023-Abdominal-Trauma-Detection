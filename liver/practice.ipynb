{
 "cells": [
  {
   "cell_type": "code",
   "execution_count": 3,
   "metadata": {},
   "outputs": [],
   "source": [
    "import pandas as pd\n",
    "csv_path = f'/workspace/dataset_xlsx/train_fold0.csv'\n",
    "data_csv = pd.read_csv(csv_path) \n",
    "patient_ids = list(data_csv.patient_id)"
   ]
  },
  {
   "cell_type": "code",
   "execution_count": null,
   "metadata": {},
   "outputs": [],
   "source": [
    "labels = [data_csv[data_csv.patient_id == int(i)].values[0][1:-2][10:].argmax() for i in patient_ids]"
   ]
  },
  {
   "cell_type": "code",
   "execution_count": 20,
   "metadata": {},
   "outputs": [
    {
     "name": "stdout",
     "output_type": "stream",
     "text": [
      "2_[1 0 0]_0\n",
      "3_[1 0 0]_0\n",
      "4_[1 0 0]_0\n",
      "5_[1 0 0]_0\n",
      "6_[1 0 0]_0\n",
      "7_[1 0 0]_0\n",
      "8_[1 0 0]_0\n",
      "9_[1 0 0]_0\n",
      "10_[1 0 0]_0\n",
      "11_[1 0 0]_0\n",
      "12_[1 0 0]_0\n",
      "13_[1 0 0]_0\n",
      "14_[0 1 0]_1\n",
      "15_[1 0 0]_0\n",
      "16_[1 0 0]_0\n",
      "17_[1 0 0]_0\n",
      "18_[0 1 0]_1\n",
      "19_[0 1 0]_1\n",
      "20_[1 0 0]_0\n",
      "21_[1 0 0]_0\n",
      "22_[1 0 0]_0\n",
      "23_[1 0 0]_0\n",
      "24_[1 0 0]_0\n",
      "25_[0 1 0]_1\n",
      "26_[0 1 0]_1\n",
      "27_[1 0 0]_0\n",
      "28_[1 0 0]_0\n",
      "29_[1 0 0]_0\n",
      "30_[1 0 0]_0\n",
      "31_[1 0 0]_0\n"
     ]
    }
   ],
   "source": [
    "for i in range(30):    \n",
    "    print(f\"{i+2}_{data_csv[data_csv.patient_id == int(patient_ids[i])].values[0][1:-2][7:10]}_{data_csv[data_csv.patient_id == int(patient_ids[i])].values[0][1:-2][7:10].argmax()}\")"
   ]
  }
 ],
 "metadata": {
  "kernelspec": {
   "display_name": "base",
   "language": "python",
   "name": "python3"
  },
  "language_info": {
   "codemirror_mode": {
    "name": "ipython",
    "version": 3
   },
   "file_extension": ".py",
   "mimetype": "text/x-python",
   "name": "python",
   "nbconvert_exporter": "python",
   "pygments_lexer": "ipython3",
   "version": "3.10.8"
  },
  "orig_nbformat": 4
 },
 "nbformat": 4,
 "nbformat_minor": 2
}
